{
 "cells": [
  {
   "cell_type": "code",
   "execution_count": 12,
   "id": "4cb25bb3",
   "metadata": {},
   "outputs": [
    {
     "name": "stdout",
     "output_type": "stream",
     "text": [
      "property price? 1000000\n",
      "how much are repairs/renovations? 200000\n",
      "rental price? 15000\n",
      "roi: 15\n",
      "above 1% return a month, this is a good deal\n"
     ]
    },
    {
     "data": {
      "text/plain": [
       "<__main__.ROICalc at 0x7fd3016ee1f0>"
      ]
     },
     "execution_count": 12,
     "metadata": {},
     "output_type": "execute_result"
    }
   ],
   "source": [
    "class ROICalc:\n",
    "  \n",
    "\n",
    "  def __init__(self):\n",
    "    self.purchase = input('property price? ')\n",
    "    self.repair = input('how much are repairs/renovations? ')\n",
    "    self.rent = input('rental price? ')\n",
    "    self.roiFunc()\n",
    "\n",
    "\n",
    "  def roiFunc(self):\n",
    "    updatedRent = (int(self.rent) * 12)\n",
    "\n",
    "    roi = (int(updatedRent) / (int(self.purchase) + int(self.repair)) * 100)\n",
    "\n",
    "    print(f'roi: {int(float(roi))}')\n",
    "  \n",
    "    if roi >= 12:\n",
    "      print('above 1% return a month, this is a good deal')\n",
    "    else:\n",
    "      print('less than a 1% return a month, this is not a good deal')\n",
    "    \n",
    "\n",
    "    \n",
    "ROICalc()\n",
    "  \n",
    "\n",
    "\n",
    "\n"
   ]
  },
  {
   "cell_type": "code",
   "execution_count": null,
   "id": "8113ae05",
   "metadata": {},
   "outputs": [],
   "source": []
  },
  {
   "cell_type": "code",
   "execution_count": null,
   "id": "4519bdb5",
   "metadata": {},
   "outputs": [],
   "source": []
  },
  {
   "cell_type": "code",
   "execution_count": null,
   "id": "d07eb5ca",
   "metadata": {},
   "outputs": [],
   "source": []
  }
 ],
 "metadata": {
  "kernelspec": {
   "display_name": "Python 3",
   "language": "python",
   "name": "python3"
  },
  "language_info": {
   "codemirror_mode": {
    "name": "ipython",
    "version": 3
   },
   "file_extension": ".py",
   "mimetype": "text/x-python",
   "name": "python",
   "nbconvert_exporter": "python",
   "pygments_lexer": "ipython3",
   "version": "3.8.8"
  }
 },
 "nbformat": 4,
 "nbformat_minor": 5
}
